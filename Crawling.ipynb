{
 "cells": [
  {
   "cell_type": "code",
   "execution_count": 1,
   "metadata": {},
   "outputs": [],
   "source": [
    "import numpy as np\n",
    "\n",
    "from crawler import Crawler"
   ]
  },
  {
   "cell_type": "code",
   "execution_count": 2,
   "metadata": {},
   "outputs": [
    {
     "name": "stdout",
     "output_type": "stream",
     "text": [
      "\u0019[Failed:  https://www.sandicormls.com/Listing/8618-Park-Run-Rd/56ecc31b399df37a6b92618b\n",
      "\u0019[Failed:  https://www.apartments.com/8618-park-run-rd-san-diego-ca/j3bfr15/\n",
      "\u0019[Failed:  https://www.forrent.com/ca/san-diego/8618-park-run-rd/43bfz1j\n",
      "\u0019[Failed:  https://www.apartmentfinder.com/California/San-Diego-Apartments/8618-Park-Run-Rd-Apartments-r2b0w11\n",
      "\u0019[Failed:  https://www.apartmenthomeliving.com/san-diego-ca/homes-for-rent/from-1500?page=3\n",
      "\u0019[Failed:  https://tequilarose.com/map-location/bristol-park/?mpfy_map=2833\n",
      "\u0019[Failed:  https://rewordrato.ml/ocean-park-halloween-bash-2018-nfl.html\n",
      "\u0019[Failed:  https://callereports.com/619-243.html\n",
      "\u0019[Failed:  https://callereports.com/619-308.html\n",
      "\u0019[Failed:  https://callereports.com/619-683.html\n",
      "\u0019[Failed:  https://www.callereports.com/858-541.html\n",
      "\u0019[Failed:  https://www.callereports.com/619-223.html\n",
      "\u0019[Failed:  https://www.callereports.com/858-221.html\n"
     ]
    }
   ],
   "source": [
    "# We can skip any major sites\n",
    "SKIP = [\"zillow\", \"redfin\", \"apartments\"]\n",
    "\n",
    "# Read form our list of sites\n",
    "sites = np.genfromtxt(\"sites.txt\", dtype=\"str\")\n",
    "bot = Crawler(sites, SKIP)\n",
    "docs = bot.getTextDocuments()"
   ]
  },
  {
   "cell_type": "code",
   "execution_count": 3,
   "metadata": {},
   "outputs": [
    {
     "data": {
      "text/plain": [
       "('https://www.zillow.com/homedetails/8618-Park-Run-Rd-San-Diego-CA-92129/16773860_zpid/',\n",
       " ['\\n            function handleCaptcha(response) {\\n                var vid = getQueryString(\"vid\"); // getQueryString is implemented below\\n                var uuid = getQueryString(\"uuid\");\\n                var name = \\'_pxCaptcha\\';\\n                var cookieValue =  btoa(JSON.stringify({r:response,v:vid,u:uuid}));\\n                var cookieParts = [name, \\'=\\', cookieValue, \\'; path=/\\'];\\n                cookieParts.push(\\'; domain=\\' + window.location.hostname);\\n                cookieParts.push(\\'; max-age=10\\');//expire after 10 seconds\\n                document.cookie = cookieParts.join(\\'\\');\\n                var originalURL = getOriginalUrl(\"url\");\\n                var originalHost = window.location.host;\\n                var newHref = window.location.protocol + \"//\" + originalHost;\\n                originalURL = originalURL || \\'/\\';\\n                newHref = newHref + originalURL;\\n                window.location.href = newHref;\\n            }\\n\\n            function getQueryString(name, url) {\\n                if (!url) url = window.location.href;\\n                name = name.replace(/[\\\\[\\\\]]/g, \"\\\\\\\\$&\");\\n                var regex = new RegExp(\"[?&]\" + name + \"(=([^&#]*)|&|#|$)\"),\\n                results = regex.exec(url);\\n                if (!results) return null;\\n                if (!results[2]) return \\'\\';\\n                return decodeURIComponent(results[2].replace(/\\\\+/g, \" \"));\\n            }\\n\\n            function getOriginalUrl(name) {\\n                var url = getQueryString(name);\\n                if (!url) return null;\\n                var regExMatcher = new RegExp(\"(([^&#@]*)|&|#|$)\");\\n                var matches = regExMatcher.exec(url);\\n                if (!matches) return null;\\n                return matches[0];\\n            }\\n\\n            document.addEventListener(\"DOMContentLoaded\", function (e) {\\n                var uuidVerifyRegExp = /^\\\\{?[0-9a-fA-F]{8}-[0-9a-fA-F]{4}-[0-9a-fA-F]{4}-[0-9a-fA-F]{4}-[0-9a-fA-F]{12}\\\\}?$/i;\\n                document.getElementById(\"uuid\").innerText = \"UUID: \" + uuidVerifyRegExp.exec(getQueryString(\"uuid\"));\\n            });\\n        ',\n",
       "  ' <h1>Captcha</h1> ',\n",
       "  \"Please verify you're a human to continue.\",\n",
       "  ' H:030  T:3ms  S:2686  R:Fri Dec 21 22:13:55 PST 2018  B:5.0.57943-master.3add77d~delivery_ready.81de4df '])"
      ]
     },
     "execution_count": 3,
     "metadata": {},
     "output_type": "execute_result"
    }
   ],
   "source": [
    "docs[0]"
   ]
  },
  {
   "cell_type": "code",
   "execution_count": null,
   "metadata": {},
   "outputs": [],
   "source": []
  }
 ],
 "metadata": {
  "kernelspec": {
   "display_name": "Python 3",
   "language": "python",
   "name": "python3"
  },
  "language_info": {
   "codemirror_mode": {
    "name": "ipython",
    "version": 3
   },
   "file_extension": ".py",
   "mimetype": "text/x-python",
   "name": "python",
   "nbconvert_exporter": "python",
   "pygments_lexer": "ipython3",
   "version": "3.6.4"
  }
 },
 "nbformat": 4,
 "nbformat_minor": 2
}
